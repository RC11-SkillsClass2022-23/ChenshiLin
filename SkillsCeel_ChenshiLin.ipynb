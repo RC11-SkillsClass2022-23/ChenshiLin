{
 "cells": [
  {
   "cell_type": "markdown",
   "metadata": {},
   "source": [
    "# Lambda calculus\n",
    "\n",
    "The most obvious place where we encounter lambda expressions in Python is with their 'anonymous functions', so called because you do not have to name these functions. For example, the following is an anonymous function that doubles its input:"
   ]
  },
  {
   "cell_type": "code",
   "execution_count": 8,
   "metadata": {
    "scrolled": false
   },
   "outputs": [
    {
     "data": {
      "text/plain": [
       "<function __main__.<lambda>(x)>"
      ]
     },
     "execution_count": 8,
     "metadata": {},
     "output_type": "execute_result"
    }
   ],
   "source": [
    "lambda x: x*2"
   ]
  },
  {
   "cell_type": "markdown",
   "metadata": {},
   "source": [
    "The defining of the above function corresponds with the 'lambda abstraction rule' of lambda calculus. We have given this function no input, so we get no output either. Furthermore, since the function is anonymous, we cannot reference its name and invoke it later. Instead, we should immediately supply the lambda expression with some input:"
   ]
  },
  {
   "cell_type": "code",
   "execution_count": 5,
   "metadata": {},
   "outputs": [
    {
     "data": {
      "text/plain": [
       "12"
      ]
     },
     "execution_count": 5,
     "metadata": {},
     "output_type": "execute_result"
    }
   ],
   "source": [
    "(lambda x: x*2)(6)"
   ]
  },
  {
   "cell_type": "markdown",
   "metadata": {},
   "source": [
    "Python will then produce the output of this function applied to the input (corresponding to the 'application rule'). We do not need to limit ourselves to one parameter either, as this exponential growth formula shows:"
   ]
  },
  {
   "cell_type": "code",
   "execution_count": 13,
   "metadata": {},
   "outputs": [
    {
     "data": {
      "text/plain": [
       "54"
      ]
     },
     "execution_count": 13,
     "metadata": {},
     "output_type": "execute_result"
    }
   ],
   "source": [
    "(lambda x, g, t: x*g**t)(2,3,3)"
   ]
  },
  {
   "cell_type": "markdown",
   "metadata": {},
   "source": [
    "we actually *can* assign a variable name to a lambda expression if we want, in which case it is just an alternative syntax for defining a function. The following two are identical functions:"
   ]
  },
  {
   "cell_type": "code",
   "execution_count": 11,
   "metadata": {},
   "outputs": [
    {
     "data": {
      "text/plain": [
       "8"
      ]
     },
     "execution_count": 11,
     "metadata": {},
     "output_type": "execute_result"
    }
   ],
   "source": [
    "def double_a(x):\n",
    "    return x*2\n",
    "\n",
    "double_b = lambda x: x*2\n",
    "\n",
    "double_b(4)"
   ]
  },
  {
   "cell_type": "markdown",
   "metadata": {},
   "source": [
    "In general, the 'normal' way is preferred. A great way to use lambda expressions is to have a regular function (that wants some argument *n*) **return** a lambda expression that involves *n*. Think of the regular function as a template for producing a family of lambda expressions depending on *n*\n",
    "\n",
    "### Exercise 1\n",
    "Define a function with at least 1 parameter that returns a lambda expression with also at least 1 parameter and uses the argument of the function. Show, with a few examples, what the function does for different inputs for the function (and the lambda expression)."
   ]
  },
  {
   "cell_type": "code",
   "execution_count": 14,
   "metadata": {},
   "outputs": [
    {
     "data": {
      "text/plain": [
       "100"
      ]
     },
     "execution_count": 14,
     "metadata": {},
     "output_type": "execute_result"
    }
   ],
   "source": [
    "def multiply_a(x,y):\n",
    "    return x*y**2\n",
    "\n",
    "multiply_a(4,5)"
   ]
  },
  {
   "cell_type": "code",
   "execution_count": 16,
   "metadata": {},
   "outputs": [
    {
     "name": "stdout",
     "output_type": "stream",
     "text": [
      "100\n"
     ]
    }
   ],
   "source": [
    "multiply_a= lambda x,y: x*y**2\n",
    "print(multiply_a(4,5))"
   ]
  },
  {
   "cell_type": "code",
   "execution_count": 17,
   "metadata": {},
   "outputs": [
    {
     "name": "stdout",
     "output_type": "stream",
     "text": [
      "2400\n"
     ]
    }
   ],
   "source": [
    "multiply_a= lambda x,y: x*y**2\n",
    "print(multiply_a(6,20))"
   ]
  },
  {
   "cell_type": "code",
   "execution_count": 112,
   "metadata": {},
   "outputs": [
    {
     "data": {
      "text/plain": [
       "2400"
      ]
     },
     "execution_count": 112,
     "metadata": {},
     "output_type": "execute_result"
    }
   ],
   "source": [
    "(lambda x,y: x*y**2) (6,20)"
   ]
  },
  {
   "cell_type": "code",
   "execution_count": 21,
   "metadata": {},
   "outputs": [
    {
     "name": "stdout",
     "output_type": "stream",
     "text": [
      "[1, 4, 9, 16, 25]\n"
     ]
    }
   ],
   "source": [
    "calculate= map(lambda x:x**2,[1,2,3,4,5])\n",
    "print(list(calculate))"
   ]
  },
  {
   "cell_type": "markdown",
   "metadata": {},
   "source": [
    "Another frequent use is for manipulating iterable data objects (like lists, dataframes, dictionaries, etc), such as with the .sort() method, or the map() and filter() functions. The map function applies an operation to every element of the data  object. For both map() and filter(), you need to wrap them with list() to actually return the mapped or filtered list; so it takes the form of *list(filter(lambda x: ..., list1))*.\n",
    "\n",
    "### Exercise 2\n",
    "Use lambda expressions and the above-mentioned functions to manipulate the data (a list of dictionaries) below as follows:\n",
    "* sort the data by country\n",
    "* return a filtered list that has only those entries whose 'name' starts with an A or a B\n",
    "* return a filtered list that has only those entries whose 'number' is not divisible by 2 or 3\n",
    "* return a list with the same values as the original, except that each 'number' entry has been doubled\n"
   ]
  },
  {
   "cell_type": "code",
   "execution_count": 91,
   "metadata": {},
   "outputs": [],
   "source": [
    "data = [{'country': \"Ukraine\",'number': \"3\",'name': \"Derek Bolton\"},{'country': \"United States\",'number': \"3\",'name': \"Britanney Durham\"},{'country': \"China\",'number': \"7\",'name': \"Rachel Dickson\"},{'country': \"India\",'number': \"4\",'name': \"Oren Dominguez\"},{'country': \"Norway\",'number': \"5\",'name': \"Keane Dean\"},{'country': \"New Zealand\",'number': \"8\",'name': \"Tarik Coleman\"},{'country': \"South Africa\",'number': \"3\",'name': \"Uriel Greene\"},{'country': \"China\",'number': \"6\",'name': \"Minerva Shields\"},{'country': \"Norway\",'number': \"7\",'name': \"Robin Butler\"},{'country': \"Germany\",'number': \"7\",'name': \"Stacey Nixon\"},{'country': \"South Africa\",'number': \"4\",'name': \"Glenna Clark\"},{'country': \"Australia\",'number': \"7\",'name': \"Adena Smith\"},{'country': \"Italy\",'number': \"2\",'name': \"Ronan Ellis\"},{'country': \"Chile\",'number': \"1\",'name': \"Ignatius Guy\"},{'country': \"Belgium\",'number': \"8\",'name': \"Barclay Lindsey\"},{'country': \"Peru\",'number': \"2\",'name': \"Fuller Burris\"},{'country': \"Ukraine\",'number': \"2\",'name': \"Kylan Witt\"},{'country': \"United States\",'number': \"1\",'name': \"Kitra Willis\"},{'country': \"Austria\",'number': \"6\",'name': \"Indigo Dillard\"},{'country': \"Chile\",'number': \"3\",'name': \"Benedict Powell\"},{'country': \"Russian Federation\",'number': \"9\",'name': \"Duncan Ware\"},{'country': \"Peru\",'number': \"7\",'name': \"Abra Lewis\"},{'country': \"China\",'number': \"5\",'name': \"Callie Cole\"},{'country': \"United States\",'number': \"0\",'name': \"Cedric Gates\"},{'country': \"Ukraine\",'number': \"7\",'name': \"Malcolm Cox\"},{'country': \"Brazil\",'number': \"6\",'name': \"Connor Potts\"},{'country': \"Sweden\",'number': \"7\",'name': \"Lyle Nguyen\"},{'country': \"United States\",'number': \"3\",'name': \"Rudyard Barrett\"},{'country': \"Costa Rica\",'number': \"2\",'name': \"Judah Brock\"},{'country': \"South Korea\",'number': \"2\",'name': \"Lucius Snider\"},{'country': \"China\",'number': \"1\",'name': \"Cassady Mcdaniel\"},{'country': \"Singapore\",'number': \"2\",'name': \"Allegra Baird\"},{'country': \"Philippines\",'number': \"4\",'name': \"Omar Burgess\"},{'country': \"Turkey\",'number': \"7\",'name': \"Kenyon Rosa\"},{'country': \"Poland\",'number': \"6\",'name': \"Yen Sargent\"},{'country': \"China\",'number': \"3\",'name': \"Rashad Grimes\"},{'country': \"Spain\",'number': \"7\",'name': \"Tamekah Gutierrez\"},{'country': \"Ukraine\",'number': \"3\",'name': \"Liberty Mathis\"},{'country': \"Mexico\",'number': \"3\",'name': \"Rylee Sharpe\"},{'country': \"Mexico\",'number': \"3\",'name': \"Brynn Hinton\"},{'country': \"Sweden\",'number': \"2\",'name': \"Quinn Berg\"},{'country': \"Philippines\",'number': \"9\",'name': \"Simone Tanner\"},{'country': \"Ireland\",'number': \"2\",'name': \"Simon Giles\"},{'country': \"United Kingdom\",'number': \"10\",'name': \"Zenia Coffey\"},{'country': \"Mexico\",'number': \"2\",'name': \"Yael Glass\"},{'country': \"Colombia\",'number': \"5\",'name': \"Inga Russell\"},{'country': \"United Kingdom\",'number': \"1\",'name': \"Brendan Pearson\"},{'country': \"Austria\",'number': \"3\",'name': \"Shafira Parks\"},{'country': \"India\",'number': \"9\",'name': \"Dante Charles\"},{'country': \"Sweden\",'number': \"8\",'name': \"Kylee Good\"},{'country': \"Canada\",'number': \"1\",'name': \"September Bryan\"},{'country': \"Costa Rica\",'number': \"5\",'name': \"Hakeem Flowers\"},{'country': \"Peru\",'number': \"0\",'name': \"Ross Moss\"},{'country': \"Spain\",'number': \"8\",'name': \"Bo Hardy\"},{'country': \"Austria\",'number': \"2\",'name': \"Davis Cardenas\"},{'country': \"Ireland\",'number': \"2\",'name': \"Lane Chandler\"},{'country': \"Ukraine\",'number': \"3\",'name': \"Mohammad Holder\"},{'country': \"Vietnam\",'number': \"8\",'name': \"Jonas Bryan\"},{'country': \"Costa Rica\",'number': \"0\",'name': \"Eve Rivas\"},{'country': \"Australia\",'number': \"4\",'name': \"Elton Collins\"},{'country': \"Norway\",'number': \"8\",'name': \"Cain Fields\"},{'country': \"Vietnam\",'number': \"0\",'name': \"Iliana Daniels\"},{'country': \"Mexico\",'number': \"7\",'name': \"Rajah Robles\"},{'country': \"Australia\",'number': \"3\",'name': \"Charity Conner\"},{'country': \"Chile\",'number': \"5\",'name': \"Kay Parsons\"},{'country': \"Ireland\",'number': \"4\",'name': \"Rachel Howell\"},{'country': \"Singapore\",'number': \"3\",'name': \"Walter Forbes\"},{'country': \"Colombia\",'number': \"1\",'name': \"Gray Hayden\"},{'country': \"Netherlands\",'number': \"9\",'name': \"Ivana Compton\"},{'country': \"South Korea\",'number': \"8\",'name': \"Jamal Kelly\"},{'country': \"Pakistan\",'number': \"0\",'name': \"Robert Cunningham\"},{'country': \"Spain\",'number': \"4\",'name': \"Ignatius Newman\"},{'country': \"Canada\",'number': \"8\",'name': \"Gisela Glenn\"},{'country': \"Vietnam\",'number': \"1\",'name': \"Eliana Nicholson\"},{'country': \"Ukraine\",'number': \"4\",'name': \"Christen James\"},{'country': \"France\",'number': \"4\",'name': \"Devin Spears\"},{'country': \"Costa Rica\",'number': \"3\",'name': \"Phelan Hodges\"},{'country': \"Chile\",'number': \"4\",'name': \"Stewart Coffey\"},{'country': \"Singapore\",'number': \"6\",'name': \"Kasper Justice\"},{'country': \"Italy\",'number': \"7\",'name': \"Xanthus Wilkerson\"},{'country': \"Italy\",'number': \"6\",'name': \"Debra Melendez\"},{'country': \"Germany\",'number': \"6\",'name': \"Galvin Morrison\"},{'country': \"Norway\",'number': \"10\",'name': \"Britanney Daniels\"},{'country': \"Italy\",'number': \"8\",'name': \"Steel Cantu\"},{'country': \"Mexico\",'number': \"7\",'name': \"Graham Ewing\"},{'country': \"China\",'number': \"3\",'name': \"Maia Dunn\"},{'country': \"Australia\",'number': \"3\",'name': \"Violet Thornton\"},{'country': \"Canada\",'number': \"5\",'name': \"Cleo Cardenas\"},{'country': \"United States\",'number': \"8\",'name': \"Castor Bowen\"},{'country': \"Australia\",'number': \"8\",'name': \"Wyatt Carey\"},{'country': \"Philippines\",'number': \"5\",'name': \"Paul Padilla\"},{'country': \"Costa Rica\",'number': \"8\",'name': \"Germane Welch\"},{'country': \"South Korea\",'number': \"4\",'name': \"Zephr Deleon\"},{'country': \"Russian Federation\",'number': \"9\",'name': \"Lionel Armstrong\"},{'country': \"Brazil\",'number': \"6\",'name': \"Eleanor Solomon\"},{'country': \"Nigeria\",'number': \"7\",'name': \"Rachel Woods\"},{'country': \"Indonesia\",'number': \"9\",'name': \"Philip Taylor\"},{'country': \"Brazil\",'number': \"7\",'name': \"Lilah Shelton\"},{'country': \"United Kingdom\",'number': \"3\",'name': \"Gillian Harrington\"},{'country': \"Mexico\",'number': \"3\",'name': \"Odessa Sutton\"}]\n"
   ]
  },
  {
   "cell_type": "code",
   "execution_count": 72,
   "metadata": {},
   "outputs": [
    {
     "name": "stdout",
     "output_type": "stream",
     "text": [
      "[{'country': 'Australia', 'number': '7', 'name': 'Adena Smith'}, {'country': 'Australia', 'number': '4', 'name': 'Elton Collins'}, {'country': 'Australia', 'number': '3', 'name': 'Charity Conner'}, {'country': 'Australia', 'number': '3', 'name': 'Violet Thornton'}, {'country': 'Australia', 'number': '8', 'name': 'Wyatt Carey'}, {'country': 'Austria', 'number': '6', 'name': 'Indigo Dillard'}, {'country': 'Austria', 'number': '3', 'name': 'Shafira Parks'}, {'country': 'Austria', 'number': '2', 'name': 'Davis Cardenas'}, {'country': 'Belgium', 'number': '8', 'name': 'Barclay Lindsey'}, {'country': 'Brazil', 'number': '6', 'name': 'Connor Potts'}, {'country': 'Brazil', 'number': '6', 'name': 'Eleanor Solomon'}, {'country': 'Brazil', 'number': '7', 'name': 'Lilah Shelton'}, {'country': 'Canada', 'number': '1', 'name': 'September Bryan'}, {'country': 'Canada', 'number': '8', 'name': 'Gisela Glenn'}, {'country': 'Canada', 'number': '5', 'name': 'Cleo Cardenas'}, {'country': 'Chile', 'number': '1', 'name': 'Ignatius Guy'}, {'country': 'Chile', 'number': '3', 'name': 'Benedict Powell'}, {'country': 'Chile', 'number': '5', 'name': 'Kay Parsons'}, {'country': 'Chile', 'number': '4', 'name': 'Stewart Coffey'}, {'country': 'China', 'number': '7', 'name': 'Rachel Dickson'}, {'country': 'China', 'number': '6', 'name': 'Minerva Shields'}, {'country': 'China', 'number': '5', 'name': 'Callie Cole'}, {'country': 'China', 'number': '1', 'name': 'Cassady Mcdaniel'}, {'country': 'China', 'number': '3', 'name': 'Rashad Grimes'}, {'country': 'China', 'number': '3', 'name': 'Maia Dunn'}, {'country': 'Colombia', 'number': '5', 'name': 'Inga Russell'}, {'country': 'Colombia', 'number': '1', 'name': 'Gray Hayden'}, {'country': 'Costa Rica', 'number': '2', 'name': 'Judah Brock'}, {'country': 'Costa Rica', 'number': '5', 'name': 'Hakeem Flowers'}, {'country': 'Costa Rica', 'number': '0', 'name': 'Eve Rivas'}, {'country': 'Costa Rica', 'number': '3', 'name': 'Phelan Hodges'}, {'country': 'Costa Rica', 'number': '8', 'name': 'Germane Welch'}, {'country': 'France', 'number': '4', 'name': 'Devin Spears'}, {'country': 'Germany', 'number': '7', 'name': 'Stacey Nixon'}, {'country': 'Germany', 'number': '6', 'name': 'Galvin Morrison'}, {'country': 'India', 'number': '4', 'name': 'Oren Dominguez'}, {'country': 'India', 'number': '9', 'name': 'Dante Charles'}, {'country': 'Indonesia', 'number': '9', 'name': 'Philip Taylor'}, {'country': 'Ireland', 'number': '2', 'name': 'Simon Giles'}, {'country': 'Ireland', 'number': '2', 'name': 'Lane Chandler'}, {'country': 'Ireland', 'number': '4', 'name': 'Rachel Howell'}, {'country': 'Italy', 'number': '2', 'name': 'Ronan Ellis'}, {'country': 'Italy', 'number': '7', 'name': 'Xanthus Wilkerson'}, {'country': 'Italy', 'number': '6', 'name': 'Debra Melendez'}, {'country': 'Italy', 'number': '8', 'name': 'Steel Cantu'}, {'country': 'Mexico', 'number': '3', 'name': 'Rylee Sharpe'}, {'country': 'Mexico', 'number': '3', 'name': 'Brynn Hinton'}, {'country': 'Mexico', 'number': '2', 'name': 'Yael Glass'}, {'country': 'Mexico', 'number': '7', 'name': 'Rajah Robles'}, {'country': 'Mexico', 'number': '7', 'name': 'Graham Ewing'}, {'country': 'Mexico', 'number': '3', 'name': 'Odessa Sutton'}, {'country': 'Netherlands', 'number': '9', 'name': 'Ivana Compton'}, {'country': 'New Zealand', 'number': '8', 'name': 'Tarik Coleman'}, {'country': 'Nigeria', 'number': '7', 'name': 'Rachel Woods'}, {'country': 'Norway', 'number': '5', 'name': 'Keane Dean'}, {'country': 'Norway', 'number': '7', 'name': 'Robin Butler'}, {'country': 'Norway', 'number': '8', 'name': 'Cain Fields'}, {'country': 'Norway', 'number': '10', 'name': 'Britanney Daniels'}, {'country': 'Pakistan', 'number': '0', 'name': 'Robert Cunningham'}, {'country': 'Peru', 'number': '2', 'name': 'Fuller Burris'}, {'country': 'Peru', 'number': '7', 'name': 'Abra Lewis'}, {'country': 'Peru', 'number': '0', 'name': 'Ross Moss'}, {'country': 'Philippines', 'number': '4', 'name': 'Omar Burgess'}, {'country': 'Philippines', 'number': '9', 'name': 'Simone Tanner'}, {'country': 'Philippines', 'number': '5', 'name': 'Paul Padilla'}, {'country': 'Poland', 'number': '6', 'name': 'Yen Sargent'}, {'country': 'Russian Federation', 'number': '9', 'name': 'Duncan Ware'}, {'country': 'Russian Federation', 'number': '9', 'name': 'Lionel Armstrong'}, {'country': 'Singapore', 'number': '2', 'name': 'Allegra Baird'}, {'country': 'Singapore', 'number': '3', 'name': 'Walter Forbes'}, {'country': 'Singapore', 'number': '6', 'name': 'Kasper Justice'}, {'country': 'South Africa', 'number': '3', 'name': 'Uriel Greene'}, {'country': 'South Africa', 'number': '4', 'name': 'Glenna Clark'}, {'country': 'South Korea', 'number': '2', 'name': 'Lucius Snider'}, {'country': 'South Korea', 'number': '8', 'name': 'Jamal Kelly'}, {'country': 'South Korea', 'number': '4', 'name': 'Zephr Deleon'}, {'country': 'Spain', 'number': '7', 'name': 'Tamekah Gutierrez'}, {'country': 'Spain', 'number': '8', 'name': 'Bo Hardy'}, {'country': 'Spain', 'number': '4', 'name': 'Ignatius Newman'}, {'country': 'Sweden', 'number': '7', 'name': 'Lyle Nguyen'}, {'country': 'Sweden', 'number': '2', 'name': 'Quinn Berg'}, {'country': 'Sweden', 'number': '8', 'name': 'Kylee Good'}, {'country': 'Turkey', 'number': '7', 'name': 'Kenyon Rosa'}, {'country': 'Ukraine', 'number': '3', 'name': 'Derek Bolton'}, {'country': 'Ukraine', 'number': '2', 'name': 'Kylan Witt'}, {'country': 'Ukraine', 'number': '7', 'name': 'Malcolm Cox'}, {'country': 'Ukraine', 'number': '3', 'name': 'Liberty Mathis'}, {'country': 'Ukraine', 'number': '3', 'name': 'Mohammad Holder'}, {'country': 'Ukraine', 'number': '4', 'name': 'Christen James'}, {'country': 'United Kingdom', 'number': '10', 'name': 'Zenia Coffey'}, {'country': 'United Kingdom', 'number': '1', 'name': 'Brendan Pearson'}, {'country': 'United Kingdom', 'number': '3', 'name': 'Gillian Harrington'}, {'country': 'United States', 'number': '3', 'name': 'Britanney Durham'}, {'country': 'United States', 'number': '1', 'name': 'Kitra Willis'}, {'country': 'United States', 'number': '0', 'name': 'Cedric Gates'}, {'country': 'United States', 'number': '3', 'name': 'Rudyard Barrett'}, {'country': 'United States', 'number': '8', 'name': 'Castor Bowen'}, {'country': 'Vietnam', 'number': '8', 'name': 'Jonas Bryan'}, {'country': 'Vietnam', 'number': '0', 'name': 'Iliana Daniels'}, {'country': 'Vietnam', 'number': '1', 'name': 'Eliana Nicholson'}]\n"
     ]
    }
   ],
   "source": [
    "new_data1= sorted(data, key=lambda x:x.__getitem__('country'))\n",
    "print(new_data1)"
   ]
  },
  {
   "cell_type": "code",
   "execution_count": 98,
   "metadata": {},
   "outputs": [
    {
     "name": "stdout",
     "output_type": "stream",
     "text": [
      "[{'country': 'United States', 'number': '3', 'name': 'Britanney Durham'}, {'country': 'Australia', 'number': '7', 'name': 'Adena Smith'}, {'country': 'Belgium', 'number': '8', 'name': 'Barclay Lindsey'}, {'country': 'Chile', 'number': '3', 'name': 'Benedict Powell'}, {'country': 'Peru', 'number': '7', 'name': 'Abra Lewis'}, {'country': 'Singapore', 'number': '2', 'name': 'Allegra Baird'}, {'country': 'Mexico', 'number': '3', 'name': 'Brynn Hinton'}, {'country': 'United Kingdom', 'number': '1', 'name': 'Brendan Pearson'}, {'country': 'Spain', 'number': '8', 'name': 'Bo Hardy'}, {'country': 'Norway', 'number': '10', 'name': 'Britanney Daniels'}]\n"
     ]
    }
   ],
   "source": [
    "new_data2 = []\n",
    "for n in data:\n",
    "    if n['name'][0]==\"A\":\n",
    "        new_data2.append(n)\n",
    "    if n['name'][0]==\"B\":\n",
    "        new_data2.append(n)\n",
    "print(new_data2)"
   ]
  },
  {
   "cell_type": "code",
   "execution_count": 101,
   "metadata": {},
   "outputs": [
    {
     "name": "stdout",
     "output_type": "stream",
     "text": [
      "['Derek Bolton', 'Britanney Durham', 'Rachel Dickson', 'Oren Dominguez', 'Keane Dean', 'Tarik Coleman', 'Uriel Greene', 'Minerva Shields', 'Robin Butler', 'Stacey Nixon', 'Glenna Clark', 'Adena Smith', 'Ronan Ellis', 'Ignatius Guy', 'Barclay Lindsey', 'Fuller Burris', 'Kylan Witt', 'Kitra Willis', 'Indigo Dillard', 'Benedict Powell', 'Duncan Ware', 'Abra Lewis', 'Callie Cole', 'Cedric Gates', 'Malcolm Cox', 'Connor Potts', 'Lyle Nguyen', 'Rudyard Barrett', 'Judah Brock', 'Lucius Snider', 'Cassady Mcdaniel', 'Allegra Baird', 'Omar Burgess', 'Kenyon Rosa', 'Yen Sargent', 'Rashad Grimes', 'Tamekah Gutierrez', 'Liberty Mathis', 'Rylee Sharpe', 'Brynn Hinton', 'Quinn Berg', 'Simone Tanner', 'Simon Giles', 'Zenia Coffey', 'Yael Glass', 'Inga Russell', 'Brendan Pearson', 'Shafira Parks', 'Dante Charles', 'Kylee Good', 'September Bryan', 'Hakeem Flowers', 'Ross Moss', 'Bo Hardy', 'Davis Cardenas', 'Lane Chandler', 'Mohammad Holder', 'Jonas Bryan', 'Eve Rivas', 'Elton Collins', 'Cain Fields', 'Iliana Daniels', 'Rajah Robles', 'Charity Conner', 'Kay Parsons', 'Rachel Howell', 'Walter Forbes', 'Gray Hayden', 'Ivana Compton', 'Jamal Kelly', 'Robert Cunningham', 'Ignatius Newman', 'Gisela Glenn', 'Eliana Nicholson', 'Christen James', 'Devin Spears', 'Phelan Hodges', 'Stewart Coffey', 'Kasper Justice', 'Xanthus Wilkerson', 'Debra Melendez', 'Galvin Morrison', 'Britanney Daniels', 'Steel Cantu', 'Graham Ewing', 'Maia Dunn', 'Violet Thornton', 'Cleo Cardenas', 'Castor Bowen', 'Wyatt Carey', 'Paul Padilla', 'Germane Welch', 'Zephr Deleon', 'Lionel Armstrong', 'Eleanor Solomon', 'Rachel Woods', 'Philip Taylor', 'Lilah Shelton', 'Gillian Harrington', 'Odessa Sutton']\n"
     ]
    }
   ],
   "source": [
    "namelist = []\n",
    "for i in data:\n",
    "    namelist.append(i['name'])\n",
    "print(namelist)"
   ]
  },
  {
   "cell_type": "code",
   "execution_count": 100,
   "metadata": {},
   "outputs": [
    {
     "name": "stdout",
     "output_type": "stream",
     "text": [
      "['Britanney Durham', 'Adena Smith', 'Barclay Lindsey', 'Benedict Powell', 'Abra Lewis', 'Allegra Baird', 'Brynn Hinton', 'Brendan Pearson', 'Bo Hardy', 'Britanney Daniels']\n"
     ]
    }
   ],
   "source": [
    "namelist=[]\n",
    "for n in data:\n",
    "    namelist.append(n['name'])\n",
    "\n",
    "new_data0= list(filter(lambda x:(x[0] == 'A'or x[0] == 'B') ,namelist))\n",
    "print(new_data0)"
   ]
  },
  {
   "cell_type": "code",
   "execution_count": 20,
   "metadata": {},
   "outputs": [
    {
     "name": "stdout",
     "output_type": "stream",
     "text": [
      "[{'country': 'Ukraine', 'number': '3', 'name': 'Derek Bolton'}, {'country': 'United States', 'number': '3', 'name': 'Britanney Durham'}, {'country': 'India', 'number': '4', 'name': 'Oren Dominguez'}, {'country': 'New Zealand', 'number': '8', 'name': 'Tarik Coleman'}, {'country': 'South Africa', 'number': '3', 'name': 'Uriel Greene'}, {'country': 'China', 'number': '6', 'name': 'Minerva Shields'}, {'country': 'China', 'number': '6', 'name': 'Minerva Shields'}, {'country': 'South Africa', 'number': '4', 'name': 'Glenna Clark'}, {'country': 'Italy', 'number': '2', 'name': 'Ronan Ellis'}, {'country': 'Belgium', 'number': '8', 'name': 'Barclay Lindsey'}, {'country': 'Peru', 'number': '2', 'name': 'Fuller Burris'}, {'country': 'Ukraine', 'number': '2', 'name': 'Kylan Witt'}, {'country': 'Austria', 'number': '6', 'name': 'Indigo Dillard'}, {'country': 'Austria', 'number': '6', 'name': 'Indigo Dillard'}, {'country': 'Chile', 'number': '3', 'name': 'Benedict Powell'}, {'country': 'Russian Federation', 'number': '9', 'name': 'Duncan Ware'}, {'country': 'United States', 'number': '0', 'name': 'Cedric Gates'}, {'country': 'United States', 'number': '0', 'name': 'Cedric Gates'}, {'country': 'Brazil', 'number': '6', 'name': 'Connor Potts'}, {'country': 'Brazil', 'number': '6', 'name': 'Connor Potts'}, {'country': 'United States', 'number': '3', 'name': 'Rudyard Barrett'}, {'country': 'Costa Rica', 'number': '2', 'name': 'Judah Brock'}, {'country': 'South Korea', 'number': '2', 'name': 'Lucius Snider'}, {'country': 'Singapore', 'number': '2', 'name': 'Allegra Baird'}, {'country': 'Philippines', 'number': '4', 'name': 'Omar Burgess'}, {'country': 'Poland', 'number': '6', 'name': 'Yen Sargent'}, {'country': 'Poland', 'number': '6', 'name': 'Yen Sargent'}, {'country': 'China', 'number': '3', 'name': 'Rashad Grimes'}, {'country': 'Ukraine', 'number': '3', 'name': 'Liberty Mathis'}, {'country': 'Mexico', 'number': '3', 'name': 'Rylee Sharpe'}, {'country': 'Mexico', 'number': '3', 'name': 'Brynn Hinton'}, {'country': 'Sweden', 'number': '2', 'name': 'Quinn Berg'}, {'country': 'Philippines', 'number': '9', 'name': 'Simone Tanner'}, {'country': 'Ireland', 'number': '2', 'name': 'Simon Giles'}, {'country': 'United Kingdom', 'number': '10', 'name': 'Zenia Coffey'}, {'country': 'United Kingdom', 'number': '10', 'name': 'Zenia Coffey'}, {'country': 'Mexico', 'number': '2', 'name': 'Yael Glass'}, {'country': 'Austria', 'number': '3', 'name': 'Shafira Parks'}, {'country': 'India', 'number': '9', 'name': 'Dante Charles'}, {'country': 'Sweden', 'number': '8', 'name': 'Kylee Good'}, {'country': 'Peru', 'number': '0', 'name': 'Ross Moss'}, {'country': 'Peru', 'number': '0', 'name': 'Ross Moss'}, {'country': 'Spain', 'number': '8', 'name': 'Bo Hardy'}, {'country': 'Austria', 'number': '2', 'name': 'Davis Cardenas'}, {'country': 'Ireland', 'number': '2', 'name': 'Lane Chandler'}, {'country': 'Ukraine', 'number': '3', 'name': 'Mohammad Holder'}, {'country': 'Vietnam', 'number': '8', 'name': 'Jonas Bryan'}, {'country': 'Costa Rica', 'number': '0', 'name': 'Eve Rivas'}, {'country': 'Costa Rica', 'number': '0', 'name': 'Eve Rivas'}, {'country': 'Australia', 'number': '4', 'name': 'Elton Collins'}, {'country': 'Norway', 'number': '8', 'name': 'Cain Fields'}, {'country': 'Vietnam', 'number': '0', 'name': 'Iliana Daniels'}, {'country': 'Vietnam', 'number': '0', 'name': 'Iliana Daniels'}, {'country': 'Australia', 'number': '3', 'name': 'Charity Conner'}, {'country': 'Ireland', 'number': '4', 'name': 'Rachel Howell'}, {'country': 'Singapore', 'number': '3', 'name': 'Walter Forbes'}, {'country': 'Netherlands', 'number': '9', 'name': 'Ivana Compton'}, {'country': 'South Korea', 'number': '8', 'name': 'Jamal Kelly'}, {'country': 'Pakistan', 'number': '0', 'name': 'Robert Cunningham'}, {'country': 'Pakistan', 'number': '0', 'name': 'Robert Cunningham'}, {'country': 'Spain', 'number': '4', 'name': 'Ignatius Newman'}, {'country': 'Canada', 'number': '8', 'name': 'Gisela Glenn'}, {'country': 'Ukraine', 'number': '4', 'name': 'Christen James'}, {'country': 'France', 'number': '4', 'name': 'Devin Spears'}, {'country': 'Costa Rica', 'number': '3', 'name': 'Phelan Hodges'}, {'country': 'Chile', 'number': '4', 'name': 'Stewart Coffey'}, {'country': 'Singapore', 'number': '6', 'name': 'Kasper Justice'}, {'country': 'Singapore', 'number': '6', 'name': 'Kasper Justice'}, {'country': 'Italy', 'number': '6', 'name': 'Debra Melendez'}, {'country': 'Italy', 'number': '6', 'name': 'Debra Melendez'}, {'country': 'Germany', 'number': '6', 'name': 'Galvin Morrison'}, {'country': 'Germany', 'number': '6', 'name': 'Galvin Morrison'}, {'country': 'Norway', 'number': '10', 'name': 'Britanney Daniels'}, {'country': 'Norway', 'number': '10', 'name': 'Britanney Daniels'}, {'country': 'Italy', 'number': '8', 'name': 'Steel Cantu'}, {'country': 'China', 'number': '3', 'name': 'Maia Dunn'}, {'country': 'Australia', 'number': '3', 'name': 'Violet Thornton'}, {'country': 'United States', 'number': '8', 'name': 'Castor Bowen'}, {'country': 'Australia', 'number': '8', 'name': 'Wyatt Carey'}, {'country': 'Costa Rica', 'number': '8', 'name': 'Germane Welch'}, {'country': 'South Korea', 'number': '4', 'name': 'Zephr Deleon'}, {'country': 'Russian Federation', 'number': '9', 'name': 'Lionel Armstrong'}, {'country': 'Brazil', 'number': '6', 'name': 'Eleanor Solomon'}, {'country': 'Brazil', 'number': '6', 'name': 'Eleanor Solomon'}, {'country': 'Indonesia', 'number': '9', 'name': 'Philip Taylor'}, {'country': 'United Kingdom', 'number': '3', 'name': 'Gillian Harrington'}, {'country': 'Mexico', 'number': '3', 'name': 'Odessa Sutton'}]\n"
     ]
    }
   ],
   "source": [
    "new_data3 = []\n",
    "for n in data:\n",
    "    for x in n[\"number\"]:\n",
    "        if int(x)%2==0:\n",
    "            new_data3.append(n)\n",
    "        if int(x)%3==0:\n",
    "            new_data3.append(n)\n",
    "\n",
    "print(new_data3)"
   ]
  },
  {
   "cell_type": "code",
   "execution_count": 103,
   "metadata": {},
   "outputs": [
    {
     "name": "stdout",
     "output_type": "stream",
     "text": [
      "[3, 3, 7, 4, 5, 8, 3, 6, 7, 7, 4, 7, 2, 1, 8, 2, 2, 1, 6, 3, 9, 7, 5, 0, 7, 6, 7, 3, 2, 2, 1, 2, 4, 7, 6, 3, 7, 3, 3, 3, 2, 9, 2, 10, 2, 5, 1, 3, 9, 8, 1, 5, 0, 8, 2, 2, 3, 8, 0, 4, 8, 0, 7, 3, 5, 4, 3, 1, 9, 8, 0, 4, 8, 1, 4, 4, 3, 4, 6, 7, 6, 6, 10, 8, 7, 3, 3, 5, 8, 8, 5, 8, 4, 9, 6, 7, 9, 7, 3, 3]\n"
     ]
    }
   ],
   "source": [
    "numberlist=[]\n",
    "for n in data:\n",
    "    numberlist.append(int(n['number']))\n",
    "print(numberlist)"
   ]
  },
  {
   "cell_type": "code",
   "execution_count": 131,
   "metadata": {},
   "outputs": [
    {
     "name": "stdout",
     "output_type": "stream",
     "text": [
      "[3, 3, 7, 4, 5, 8, 3, 7, 7, 4, 7, 2, 1, 8, 2, 2, 1, 3, 9, 7, 5, 7, 7, 3, 2, 2, 1, 2, 4, 7, 3, 7, 3, 3, 3, 2, 9, 2, 10, 2, 5, 1, 3, 9, 8, 1, 5, 8, 2, 2, 3, 8, 4, 8, 7, 3, 5, 4, 3, 1, 9, 8, 4, 8, 1, 4, 4, 3, 4, 7, 10, 8, 7, 3, 3, 5, 8, 8, 5, 8, 4, 9, 7, 9, 7, 3, 3]\n"
     ]
    }
   ],
   "source": [
    "numberlist=[]\n",
    "for n in data:\n",
    "    numberlist.append(int(n['number']))\n",
    "    \n",
    "new_data4= list(filter(lambda x: x%2 !=0 or x%3!=0 ,numberlist))\n",
    "print(new_data4)"
   ]
  },
  {
   "cell_type": "code",
   "execution_count": 132,
   "metadata": {},
   "outputs": [
    {
     "name": "stdout",
     "output_type": "stream",
     "text": [
      "[6, 6, 14, 8, 10, 16, 6, 12, 14, 14, 8, 14, 4, 2, 16, 4, 4, 2, 12, 6, 18, 14, 10, 0, 14, 12, 14, 6, 4, 4, 2, 4, 8, 14, 12, 6, 14, 6, 6, 6, 4, 18, 4, 20, 4, 10, 2, 6, 18, 16, 2, 10, 0, 16, 4, 4, 6, 16, 0, 8, 16, 0, 14, 6, 10, 8, 6, 2, 18, 16, 0, 8, 16, 2, 8, 8, 6, 8, 12, 14, 12, 12, 20, 16, 14, 6, 6, 10, 16, 16, 10, 16, 8, 18, 12, 14, 18, 14, 6, 6]\n"
     ]
    }
   ],
   "source": [
    "numberlist=[]\n",
    "for n in data:\n",
    "    numberlist.append(int(n['number']))\n",
    "\n",
    "new_data5= list(map(lambda x: x*2, numberlist))\n",
    "print(new_data5)"
   ]
  },
  {
   "cell_type": "code",
   "execution_count": 136,
   "metadata": {},
   "outputs": [
    {
     "name": "stdout",
     "output_type": "stream",
     "text": [
      "[33, 33, 77, 44, 55, 88, 33, 66, 77, 77, 44, 77, 22, 11, 88, 22, 22, 11, 66, 33, 99, 77, 55, 0, 77, 66, 77, 33, 22, 22, 11, 22, 44, 77, 66, 33, 77, 33, 33, 33, 22, 99, 22, 11, 0, 22, 55, 11, 33, 99, 88, 11, 55, 0, 88, 22, 22, 33, 88, 0, 44, 88, 0, 77, 33, 55, 44, 33, 11, 99, 88, 0, 44, 88, 11, 44, 44, 33, 44, 66, 77, 66, 66, 11, 0, 88, 77, 33, 33, 55, 88, 88, 55, 88, 44, 99, 66, 77, 99, 77, 33, 33]\n"
     ]
    }
   ],
   "source": [
    "new_data5= []\n",
    "for n in data:\n",
    "    for x in n[\"number\"]:\n",
    "        y=2*x\n",
    "        new_data5.append(int(y))   \n",
    "print(new_data5)"
   ]
  },
  {
   "cell_type": "markdown",
   "metadata": {},
   "source": [
    "# Recursive functions\n",
    "### For any recursive function you write in this section, make clear (with comments) what your base cases and your recursive cases are.\n",
    "Remember the example of the factorial function from the lecture. I will reproduce the Python code here:"
   ]
  },
  {
   "cell_type": "code",
   "execution_count": 110,
   "metadata": {},
   "outputs": [
    {
     "name": "stdout",
     "output_type": "stream",
     "text": [
      "The factorial of 6 is 720\n"
     ]
    }
   ],
   "source": [
    "def factorial(x):\n",
    "    if x == 0: # base case\n",
    "        return 1\n",
    "    else: # recursive case\n",
    "        return (x * factorial(x-1))\n",
    "\n",
    "\n",
    "num = 6\n",
    "print(\"The factorial of\", num, \"is\", factorial(num))"
   ]
  },
  {
   "cell_type": "markdown",
   "metadata": {},
   "source": [
    "The other example in the lecture was concerned with Fibonacci numbers.\n",
    "### Exercise 1\n",
    "#### a\n",
    "Implement this Fibonacci function **recursively** in Python:"
   ]
  },
  {
   "cell_type": "code",
   "execution_count": 7,
   "metadata": {},
   "outputs": [
    {
     "name": "stdout",
     "output_type": "stream",
     "text": [
      "The fibonacci of 30 is 514229\n"
     ]
    }
   ],
   "source": [
    "def fibonacci(x):\n",
    "    if x == 1: # base case\n",
    "        return 0\n",
    "    elif x==2:\n",
    "        return 1\n",
    "    else: # recursive case\n",
    "        return (fibonacci(x-1) + fibonacci(x-2))\n",
    "\n",
    "\n",
    "num = 30\n",
    "print(\"The fibonacci of\", num, \"is\", fibonacci(num))"
   ]
  },
  {
   "cell_type": "code",
   "execution_count": 9,
   "metadata": {},
   "outputs": [
    {
     "name": "stdout",
     "output_type": "stream",
     "text": [
      "Sorry the fibonacci does not exist.\n",
      "The fibonacci of -1 is None\n"
     ]
    }
   ],
   "source": [
    "def fibonacci(x):\n",
    "    if x <= 0:\n",
    "        print(\"Sorry the fibonacci does not exist.\")\n",
    "    else:\n",
    "        if x == 1: # base case\n",
    "            return 0\n",
    "        elif x==2:\n",
    "            return 1\n",
    "        else: # recursive case\n",
    "            return (fibonacci(x-1) + fibonacci(x-2))\n",
    "num = -1\n",
    "print(\"The fibonacci of\", num, \"is\", fibonacci(num))"
   ]
  },
  {
   "cell_type": "markdown",
   "metadata": {},
   "source": [
    "#### b\n",
    "Test your function on some higher numbers. What do you notice? What do you think is causing this?"
   ]
  },
  {
   "cell_type": "markdown",
   "metadata": {},
   "source": []
  },
  {
   "cell_type": "markdown",
   "metadata": {},
   "source": [
    "### Exercise 2\n",
    "Write a recursive function that takes a list of integers as input and returns the maximum integer stored in the list. Thinking recursively, the maximum is either the first value in the list or the maximum of the rest of the list, whichever is larger. If the list only has 1 integer, then its maximum is this single value, naturally."
   ]
  },
  {
   "cell_type": "code",
   "execution_count": 44,
   "metadata": {},
   "outputs": [],
   "source": [
    "def recursiveMax(a):\n",
    "    if len(a) == 1:\n",
    "        return a[0]\n",
    "    else:\n",
    "        if a[0] > recursiveMax(a[1:]):\n",
    "            return a[0] \n",
    "        else:\n",
    "            return recursiveMax(a[1:])"
   ]
  },
  {
   "cell_type": "code",
   "execution_count": 45,
   "metadata": {},
   "outputs": [
    {
     "name": "stdout",
     "output_type": "stream",
     "text": [
      "15\n",
      "100\n"
     ]
    }
   ],
   "source": [
    "print(recursiveMax([1, 2, 15, 6, 3, 2, 9]))\n",
    "print(recursiveMax([98, 2, 1, 1, 1, 1, 100]))"
   ]
  },
  {
   "cell_type": "code",
   "execution_count": 46,
   "metadata": {},
   "outputs": [],
   "source": [
    "def recursiveMax(a):\n",
    "    if len(a) == 1:\n",
    "        return a[0]\n",
    "    else:\n",
    "        return max(a[0],recursiveMax(a[1:]))"
   ]
  },
  {
   "cell_type": "code",
   "execution_count": 47,
   "metadata": {},
   "outputs": [
    {
     "name": "stdout",
     "output_type": "stream",
     "text": [
      "15\n",
      "100\n"
     ]
    }
   ],
   "source": [
    "print(recursiveMax([1, 2, 15, 6, 3, 2, 9]))\n",
    "print(recursiveMax([98, 2, 1, 1, 1, 1, 100]))"
   ]
  },
  {
   "cell_type": "markdown",
   "metadata": {},
   "source": [
    "### Exercise 3\n",
    "Write a recursive function **letterCount** that takes a string and a character as input, and returns how many times the character occurs in the string. For example, it should have the following outputs:\n",
    "* **letterCount**(\"Julian\", 'i') = 1\n",
    "* **letterCount**(\"Ceel\", 'e') = 2\n",
    "* **letterCount**(\"Joris\", 'a') = 0"
   ]
  },
  {
   "cell_type": "code",
   "execution_count": 69,
   "metadata": {},
   "outputs": [],
   "source": [
    "def count(text, char):\n",
    "    n= 0\n",
    "    for i in range(len(text)):\n",
    "        if (text[i] == char):\n",
    "            n= n +1\n",
    "    return n"
   ]
  },
  {
   "cell_type": "code",
   "execution_count": 70,
   "metadata": {},
   "outputs": [
    {
     "name": "stdout",
     "output_type": "stream",
     "text": [
      "1\n"
     ]
    }
   ],
   "source": [
    "text= \"Julian\"\n",
    "char= \"u\"\n",
    "print(count(text, char))"
   ]
  },
  {
   "cell_type": "code",
   "execution_count": 71,
   "metadata": {},
   "outputs": [
    {
     "name": "stdout",
     "output_type": "stream",
     "text": [
      "2\n"
     ]
    }
   ],
   "source": [
    "text= \"Ceel\"\n",
    "char= \"e\"\n",
    "print(count(text, char))"
   ]
  },
  {
   "cell_type": "code",
   "execution_count": 72,
   "metadata": {},
   "outputs": [
    {
     "name": "stdout",
     "output_type": "stream",
     "text": [
      "0\n"
     ]
    }
   ],
   "source": [
    "text= \"Joris\"\n",
    "char= \"e\"\n",
    "print(count(text, char))"
   ]
  },
  {
   "cell_type": "markdown",
   "metadata": {},
   "source": [
    "# Turing Machines\n",
    "### The exercises for this section are made outside of this notebook. To hand in, either add a separate file with the code to your personal GitHub map, or copy-paste it into the box at the bottom of the notebook. Make sure to clearly label which code belongs to which exercise!\n",
    "Go to turingmachine.io and open the 'binary increment' example at the top. Play around with it and try to understand what is happening.\n",
    "\n",
    "### Exercise 1\n",
    "Make the exercises for the binary increment that are printed below the code on the web page. I will reproduce them here for your convenience:\n",
    "\n",
    "exercises\n",
    "\n",
    "\t# • Modify the machine to always halt on the leftmost digit\n",
    "\t#   (regardless of the number's length).\n",
    "\t#   Hint: add a state between carry and done.\n",
    "\n",
    "\t# • Make a machine that adds 2 instead of 1.\n",
    "\t#   Hint: 2 is '10' in binary, so the last digit is unaffected.\n",
    "\t#   Alternative hint: chain together two copies of the machine from\n",
    "\t#   the first exercise (renaming the states of the second copy).\n",
    "\n",
    "\t# • Make a machine to subtract 1.\n",
    "\t#   To simplify things, assume the input is always greater than 0.\n",
    "\n",
    "### Exercise 2\n",
    "Choose an example at the top (different from 'binary increment') that has complementery exercises and do those.\n",
    "\n"
   ]
  },
  {
   "cell_type": "raw",
   "metadata": {},
   "source": [
    "paste Turing Machine code here...\n",
    "\n",
    "\n"
   ]
  },
  {
   "cell_type": "code",
   "execution_count": null,
   "metadata": {},
   "outputs": [],
   "source": [
    "input: '1011'\n",
    "blank: ' '\n",
    "start state: right\n",
    "table:\n",
    "  # scan to the rightmost digit\n",
    "  right:\n",
    "    [1,0]: R\n",
    "    ' '  : {L: carry}\n",
    "  # then carry the 1\n",
    "  carry:\n",
    "    1      : {write: 0, L}\n",
    "    [0,' ']: {write: 1, L: drink}\n",
    "    \n",
    "  drink:\n",
    "    [0,1]: L\n",
    "    ' ' : {R: done}\n",
    "\n",
    "  done:"
   ]
  },
  {
   "cell_type": "code",
   "execution_count": null,
   "metadata": {},
   "outputs": [],
   "source": []
  }
 ],
 "metadata": {
  "kernelspec": {
   "display_name": "Python 3",
   "language": "python",
   "name": "python3"
  },
  "language_info": {
   "codemirror_mode": {
    "name": "ipython",
    "version": 3
   },
   "file_extension": ".py",
   "mimetype": "text/x-python",
   "name": "python",
   "nbconvert_exporter": "python",
   "pygments_lexer": "ipython3",
   "version": "3.7.0"
  }
 },
 "nbformat": 4,
 "nbformat_minor": 5
}
