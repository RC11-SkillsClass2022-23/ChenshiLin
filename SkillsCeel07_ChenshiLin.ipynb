{
 "cells": [
  {
   "cell_type": "code",
   "execution_count": 1,
   "metadata": {},
   "outputs": [],
   "source": [
    "import numpy as np"
   ]
  },
  {
   "cell_type": "markdown",
   "metadata": {},
   "source": [
    "Numpy documentation: https://numpy.org/doc/stable/index.html\n",
    "\n",
    "ndarray: https://numpy.org/doc/stable/reference/arrays.ndarray.html\n",
    "\n",
    "Ways to create new arrays/matrices: https://numpy.org/doc/stable/reference/routines.array-creation.html\n",
    "\n",
    "basic array manipulation: https://numpy.org/doc/stable/reference/routines.array-manipulation.html"
   ]
  },
  {
   "cell_type": "markdown",
   "metadata": {},
   "source": [
    "# Exercise One\n",
    "\n",
    "## 1.1"
   ]
  },
  {
   "cell_type": "code",
   "execution_count": 24,
   "metadata": {},
   "outputs": [],
   "source": [
    "import numpy as np\n",
    "def SMM (A,B):\n",
    "    n = len(A)\n",
    "    C = [[0 for j in range(n)] for i in range(n)]\n",
    "    \n",
    "    for i in range(n):\n",
    "        for j in range(n):\n",
    "            sum = 0\n",
    "            for k in range(n):\n",
    "                C[i][j] += A[i][k] * B[k][j]\n",
    "    C = np.array(C)\n",
    "    return C"
   ]
  },
  {
   "cell_type": "code",
   "execution_count": 37,
   "metadata": {},
   "outputs": [],
   "source": [
    "import numpy as np\n",
    "def SMM (A,B):\n",
    "    n = len(A)\n",
    "    C = np.zeros((n,n))\n",
    "    \n",
    "    for i in range(n):\n",
    "        for j in range(n):\n",
    "            for k in range(n):\n",
    "                C[i][j] += A[i][k] * B[k][j]\n",
    "    return C"
   ]
  },
  {
   "cell_type": "code",
   "execution_count": 38,
   "metadata": {},
   "outputs": [
    {
     "data": {
      "text/plain": [
       "array([[18., 12.],\n",
       "       [33., 22.]])"
      ]
     },
     "execution_count": 38,
     "metadata": {},
     "output_type": "execute_result"
    }
   ],
   "source": [
    "A = [[2,2],[3,4]]\n",
    "B = [[3,2],[6,4]]\n",
    "SMM(A,B)"
   ]
  },
  {
   "cell_type": "markdown",
   "metadata": {},
   "source": [
    "## 1.2"
   ]
  },
  {
   "cell_type": "markdown",
   "metadata": {},
   "source": [
    "1.The algorithm has three nested loops, one for each row, column, and entry of the output matrix, respectively. Each loop iterates over the range [1, n], where n is the dimension of the input matrices.\n",
    "2.Within the innermost loop, a single multiplication and addition operation is performed.\n",
    "3.The total number of multiplication and addition operations performed by the algorithm is n^3.\n",
    "4.So the time complexity of the algorithm is O(n^3)."
   ]
  },
  {
   "cell_type": "markdown",
   "metadata": {},
   "source": [
    "# Exercise Two\n",
    "## 2.1"
   ]
  },
  {
   "cell_type": "markdown",
   "metadata": {},
   "source": [
    "Answer:\n",
    "1.How is it recursive?\n",
    "Recursion of each submatrix with SMMRec.\n",
    "\n",
    "2.What is the base case? \n",
    "if n == 1 \n",
    "then c11 = a11 · b11\n",
    "When the input matrice is 1. So the computer could solve is directly.\n",
    "\n",
    "3.How does the recursion step reduce to the base case?\n",
    "Divide the n-element sequence to be sorted into two subsequences of n/2-elements each until the size of the input matrices is 1, which is handled by directly computing the product of the single element in each matrix.\n"
   ]
  },
  {
   "cell_type": "markdown",
   "metadata": {},
   "source": [
    "## 2.2"
   ]
  },
  {
   "cell_type": "markdown",
   "metadata": {},
   "source": [
    "T(n)=1 n=1;\n",
    "T(n)=4T(n/2)+2O(n) n>1"
   ]
  },
  {
   "cell_type": "markdown",
   "metadata": {},
   "source": [
    "## 2.3"
   ]
  },
  {
   "cell_type": "code",
   "execution_count": 28,
   "metadata": {},
   "outputs": [],
   "source": [
    "import numpy as np\n",
    "def SMMRec (A,B):\n",
    "    n = len(A)\n",
    "    C = [[0 for j in range(n)] for i in range(n)]\n",
    "    \n",
    "    if n == 1:\n",
    "        C[0][0] = A[0][0]*B[0][0]\n",
    "    else:\n",
    "        # split the input matrices into quarters\n",
    "        A11 = [A[i][:n//2] for i in range(n//2)]\n",
    "        A12 = [A[i][n//2:] for i in range(n//2)]\n",
    "        A21 = [A[i][:n//2] for i in range(n//2, n)]\n",
    "        A22 = [A[i][n//2:] for i in range(n//2, n)]\n",
    "        B11 = [B[i][:n//2] for i in range(n//2)]\n",
    "        B12 = [B[i][n//2:] for i in range(n//2)]\n",
    "        B21 = [B[i][:n//2] for i in range(n//2, n)]\n",
    "        B22 = [B[i][n//2:] for i in range(n//2, n)]\n",
    "        \n",
    "        # recursively compute the products of the quarter matrices \n",
    "        C11 = SMMRec(A11,B11) + SMMRec(A12, B21)\n",
    "        C12 = SMMRec(A11, B12) + SMMRec(A12, B22)\n",
    "        C21 = SMMRec(A21, B11) + SMMRec(A22, B21)\n",
    "        C22 = SMMRec(A21, B12) + SMMRec(A22, B22)\n",
    "        \n",
    "        # combine the quarter matrices into the output matrix\n",
    "        for i in range(n//2):\n",
    "            for j in range(n//2):\n",
    "                C[i][j] = C11[i][j]\n",
    "                C[i][j+n//2] = C12[i][j]\n",
    "                C[i+n//2][j] = C21[i][j]\n",
    "                C[i+n//2][j+n//2] = C22[i][j] \n",
    "        C = np.array(C)\n",
    "        return C"
   ]
  },
  {
   "cell_type": "markdown",
   "metadata": {},
   "source": [
    "{words here}"
   ]
  },
  {
   "cell_type": "markdown",
   "metadata": {},
   "source": [
    "# Exercise Three"
   ]
  },
  {
   "cell_type": "markdown",
   "metadata": {},
   "source": [
    "Strassen(A,B):\n",
    "n = nr of rows of A\n",
    "let C be a new n × n matrix\n",
    "if n == 1 then\n",
    "c11 = a11 · b11\n",
    "else\n",
    "# split the input matrices into quarters\n",
    "quarter matrices A, B, and C\n",
    "S1 = B12 − B22\n",
    "S2 = A11 + A12\n",
    "S3 = A21 + A22\n",
    "S4 = B21 − B11\n",
    "S5 = A11 + A22\n",
    "S6 = B11 + B22\n",
    "S7 = A12 − A22\n",
    "S8 = B21 + B22\n",
    "S9 = A11 − A21\n",
    "S10 = B11 + B12\n",
    "# recursively compute the products of the quarter matrices \n",
    "P1 = Strassen(A11, S1)\n",
    "P2 = Strassen(S2, B22)\n",
    "P3 = Strassen(S3, B11)\n",
    "P4 = Strassen(A22, S4)\n",
    "P5 = Strassen(S5, S6)\n",
    "P6 = Strassen(S7, S8)\n",
    "P7 = Strassen(S9, S10)\n",
    "# combine the quarter matrices into the output matrix\n",
    "C11 = P5 + P4 − P2 + P6\n",
    "C12 = P1 + P2\n",
    "C21 = P3 + P4\n",
    "C22 = P5 + P1 − P3 − P7\n",
    "return C"
   ]
  }
 ],
 "metadata": {
  "kernelspec": {
   "display_name": "Python 3",
   "language": "python",
   "name": "python3"
  },
  "language_info": {
   "codemirror_mode": {
    "name": "ipython",
    "version": 3
   },
   "file_extension": ".py",
   "mimetype": "text/x-python",
   "name": "python",
   "nbconvert_exporter": "python",
   "pygments_lexer": "ipython3",
   "version": "3.7.0"
  }
 },
 "nbformat": 4,
 "nbformat_minor": 5
}
